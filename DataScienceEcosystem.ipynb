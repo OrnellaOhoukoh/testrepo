{
 "cells": [
  {
   "cell_type": "markdown",
   "id": "7e457c25-81eb-4236-a169-69ddc0fb03e2",
   "metadata": {},
   "source": [
    "# Data Science Tools and Ecosystem"
   ]
  },
  {
   "cell_type": "markdown",
   "id": "bdf55868-4b48-467c-aff5-6bc7fedfb4be",
   "metadata": {},
   "source": [
    "In this notebook, Data Science Tools and Ecosystem are summarized."
   ]
  },
  {
   "cell_type": "markdown",
   "id": "7b71f116-5b46-4ec0-91f6-6ab2afb44956",
   "metadata": {},
   "source": [
    "**Objectives:**\n",
    "- List some languages of Data Science\n",
    "- List Data Science Open Source Development tools\n",
    "- List some Data Science popular libraries\n",
    "- Practice some arithmetic expressions in Jupyter Notebook\n",
    "  "
   ]
  },
  {
   "cell_type": "markdown",
   "id": "563a83a1-e09c-4b7d-8fc8-16ff43c829bd",
   "metadata": {},
   "source": [
    "Some of the popular languages that Data Science use are:\n",
    "1. Python\n",
    "2. R\n",
    "3. Julia\n",
    "4. SQL"
   ]
  },
  {
   "cell_type": "markdown",
   "id": "81368102-38b5-4ee9-9372-c4ddb663a8a4",
   "metadata": {},
   "source": [
    "Some of the commonly used libraries used by Data Scientists include: \n",
    "1. Matplotlib\n",
    "2. NumPy\n",
    "3. PyTorch\n",
    "4. Pandas\n",
    "5. SciPy\n",
    "6. Seaborn\n",
    "   "
   ]
  },
  {
   "cell_type": "markdown",
   "id": "e07e2335-0825-496c-a7ce-7f1ac1d448cf",
   "metadata": {},
   "source": [
    "## Data Science Tools\n",
    "\n",
    "|Jupyter|RStudio|Spyder|\n",
    "|--|--|---"
   ]
  },
  {
   "cell_type": "markdown",
   "id": "31041b88-4b11-4828-aad4-6492d9969e09",
   "metadata": {},
   "source": [
    "### Below are few examples of evaluating arithmetic expressions in Python "
   ]
  },
  {
   "cell_type": "code",
   "execution_count": 6,
   "id": "b78e9661-99ab-474a-a466-51d24da915fc",
   "metadata": {},
   "outputs": [
    {
     "data": {
      "text/plain": [
       "17"
      ]
     },
     "execution_count": 6,
     "metadata": {},
     "output_type": "execute_result"
    }
   ],
   "source": [
    "# This a simple arithmetic expression to multiply then add integers.\n",
    "(3*4)+5\n"
   ]
  },
  {
   "cell_type": "code",
   "execution_count": 5,
   "id": "2699350b-3744-4f2f-bdc2-b55def22ec13",
   "metadata": {},
   "outputs": [
    {
     "data": {
      "text/plain": [
       "3.3333333333333335"
      ]
     },
     "execution_count": 5,
     "metadata": {},
     "output_type": "execute_result"
    }
   ],
   "source": [
    "# This will convert 200 minutes to hours by diving by 60\n",
    "200/60"
   ]
  },
  {
   "cell_type": "markdown",
   "id": "72c7c318-b419-46a1-9384-aee1915b581e",
   "metadata": {},
   "source": [
    "## Author\n",
    "Akom Ornella Ohoukoh"
   ]
  },
  {
   "cell_type": "code",
   "execution_count": null,
   "id": "6477d0cd-fe7e-4e74-8091-6c2b4b4ea902",
   "metadata": {},
   "outputs": [],
   "source": []
  }
 ],
 "metadata": {
  "kernelspec": {
   "display_name": "Python 3 (ipykernel)",
   "language": "python",
   "name": "python3"
  },
  "language_info": {
   "codemirror_mode": {
    "name": "ipython",
    "version": 3
   },
   "file_extension": ".py",
   "mimetype": "text/x-python",
   "name": "python",
   "nbconvert_exporter": "python",
   "pygments_lexer": "ipython3",
   "version": "3.12.7"
  }
 },
 "nbformat": 4,
 "nbformat_minor": 5
}
